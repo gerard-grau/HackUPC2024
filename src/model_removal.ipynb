{
 "cells": [
  {
   "cell_type": "code",
   "execution_count": null,
   "metadata": {},
   "outputs": [],
   "source": [
    "import pandas as pd\n",
    "import os\n",
    "import matplotlib.pyplot as plt\n",
    "import matplotlib.image as mpimg\n",
    "from IPython.display import clear_output\n",
    "import shutil"
   ]
  },
  {
   "cell_type": "code",
   "execution_count": null,
   "metadata": {},
   "outputs": [],
   "source": [
    "image_folder = '../images_resized/'"
   ]
  },
  {
   "cell_type": "code",
   "execution_count": null,
   "metadata": {},
   "outputs": [],
   "source": [
    "images = os.listdir(image_folder)\n",
    "images.sort()\n",
    "images"
   ]
  },
  {
   "cell_type": "code",
   "execution_count": null,
   "metadata": {},
   "outputs": [],
   "source": [
    "def show_next_image_row(img_idx):\n",
    "    \n",
    "    fig, axes = plt.subplots(1, 3, figsize=(10, 4))\n",
    "\n",
    "    img1 = mpimg.imread(image_folder + images[img_idx])\n",
    "    axes[0].imshow(img1)\n",
    "    axes[0].set_title('Image 1')\n",
    "    \n",
    "    img2 = mpimg.imread(image_folder + images[img_idx+1])\n",
    "    axes[1].imshow(img2)\n",
    "    axes[1].set_title('Image 2')\n",
    "\n",
    "    if images[img_idx].split('_')[0] != images[img_idx+2].split('_')[0]:\n",
    "        plt.show()\n",
    "        return 2\n",
    "    \n",
    "    img3 = mpimg.imread(image_folder + images[img_idx+2])\n",
    "    axes[2].imshow(img3)\n",
    "    axes[2].set_title('Image 3')\n",
    "    \n",
    "    plt.show()\n",
    "    return 3\n",
    "    "
   ]
  },
  {
   "cell_type": "code",
   "execution_count": null,
   "metadata": {},
   "outputs": [],
   "source": [
    "idx = 669\n",
    "while True:\n",
    "    num_images = show_next_image_row(idx)\n",
    "    ans = input(\"º / 1 / 2 models\")\n",
    "    if ans == 'º' or ans == '': ans = 0\n",
    "    ans = int(ans)\n",
    "    \n",
    "    clear_output()\n",
    "\n",
    "    models_folder = ['0_models/', '1_model/', '2_models/']\n",
    "\n",
    "    for image in images[idx:idx+num_images]:\n",
    "        shutil.copy(image_folder + image, image_folder + models_folder[ans] + image)\n",
    "    \n",
    "    idx += num_images\n",
    "    "
   ]
  },
  {
   "cell_type": "markdown",
   "metadata": {},
   "source": [
    "Carpeta 0"
   ]
  },
  {
   "cell_type": "code",
   "execution_count": null,
   "metadata": {},
   "outputs": [],
   "source": [
    "images_0 = sorted(os.listdir(image_folder + models_folder[0]))\n",
    "\n",
    "count = 1\n",
    "prev_img = images_0[0]\n",
    "\n",
    "for image in images_0[1:]:\n",
    "    if image.split('_')[0] != prev_img.split('_')[0]:\n",
    "        if count == 1:\n",
    "            os.remove(image_folder + models_folder[0] + prev_img)\n",
    "        count = 1\n",
    "    else:\n",
    "        count += 1\n",
    "\n",
    "    prev_img = image"
   ]
  },
  {
   "cell_type": "markdown",
   "metadata": {},
   "source": [
    "Carpeta 1"
   ]
  },
  {
   "cell_type": "code",
   "execution_count": null,
   "metadata": {},
   "outputs": [],
   "source": [
    "images_1 = sorted(os.listdir(image_folder + models_folder[1]))\n",
    "\n",
    "count = 1\n",
    "prev_img = images_1[0]\n",
    "\n",
    "for image in images_1[1:]:\n",
    "    if image.split('_')[0] != prev_img.split('_')[0]:\n",
    "        if count == 1:\n",
    "            os.remove(image_folder + models_folder[1] + prev_img)\n",
    "        count = 1\n",
    "    else:\n",
    "        count += 1\n",
    "\n",
    "    prev_img = image"
   ]
  },
  {
   "cell_type": "markdown",
   "metadata": {},
   "source": [
    "Carpeta 2"
   ]
  },
  {
   "cell_type": "code",
   "execution_count": null,
   "metadata": {},
   "outputs": [],
   "source": [
    "folder_path = image_folder + models_folder[2]\n",
    "files = sorted(os.listdir(folder_path))\n",
    "\n",
    "count = 1\n",
    "prev_img = files[0]\n",
    "re_prev_img = ''\n",
    "\n",
    "for file in files[1:]:\n",
    "\n",
    "    if file.split('_')[0] != prev_img.split('_')[0]:\n",
    "        if count == 2:\n",
    "            os.remove(os.path.join(folder_path, prev_img))\n",
    "            os.remove(os.path.join(folder_path, re_prev_img))\n",
    "\n",
    "        count = 1\n",
    "    else:\n",
    "        count += 1\n",
    "\n",
    "    re_prev_img = prev_img\n",
    "    prev_img = file"
   ]
  },
  {
   "cell_type": "code",
   "execution_count": null,
   "metadata": {},
   "outputs": [],
   "source": [
    "images_0 = sorted(os.listdir(image_folder + models_folder[0]))\n",
    "images_1 = sorted(os.listdir(image_folder + models_folder[1]))\n",
    "images_2 = sorted(os.listdir(image_folder + models_folder[2]))"
   ]
  },
  {
   "cell_type": "code",
   "execution_count": null,
   "metadata": {},
   "outputs": [],
   "source": [
    "new_images_folder = '../images_resized/'"
   ]
  },
  {
   "cell_type": "code",
   "execution_count": null,
   "metadata": {},
   "outputs": [],
   "source": [
    "def get_cropped_images(images_0, images_1, images_2):\n",
    "    for image in images_0:\n",
    "        shutil.copy(new_images_folder + image, '../images_0/'+ image)\n",
    "    \n",
    "    for image in images_1:\n",
    "        shutil.copy(new_images_folder + image, '../images_1/'+ image)\n",
    "\n",
    "    for image in images_2:\n",
    "        shutil.copy(new_images_folder + image, '../images_2/'+ image)"
   ]
  },
  {
   "cell_type": "code",
   "execution_count": null,
   "metadata": {},
   "outputs": [],
   "source": [
    "get_cropped_images(images_0, images_1, images_2)"
   ]
  },
  {
   "cell_type": "markdown",
   "metadata": {},
   "source": [
    "Obtain similarity between embedings"
   ]
  },
  {
   "cell_type": "code",
   "execution_count": null,
   "metadata": {},
   "outputs": [],
   "source": [
    "\n",
    "\n",
    "# Example embeddings\n",
    "embedding1 = [0.2, 0.4, 0.6]\n",
    "embedding2 = [0.1, 0.5, 0.3]\n",
    "\n",
    "# Compute cosine similarity\n",
    "similarity = cosine_similarity([embedding1], [embedding2])[0][0]\n",
    "print(similarity)"
   ]
  },
  {
   "cell_type": "markdown",
   "metadata": {},
   "source": [
    "Load embeddings"
   ]
  },
  {
   "cell_type": "code",
   "execution_count": 54,
   "metadata": {},
   "outputs": [
    {
     "name": "stdout",
     "output_type": "stream",
     "text": [
      "Collecting h5py\n",
      "  Downloading h5py-3.11.0-cp310-cp310-manylinux_2_17_x86_64.manylinux2014_x86_64.whl (5.3 MB)\n",
      "\u001b[2K     \u001b[90m━━━━━━━━━━━━━━━━━━━━━━━━━━━━━━━━━━━━━━━━\u001b[0m \u001b[32m5.3/5.3 MB\u001b[0m \u001b[31m3.3 MB/s\u001b[0m eta \u001b[36m0:00:00\u001b[0m00:01\u001b[0m00:01\u001b[0m0m\n",
      "\u001b[?25hRequirement already satisfied: numpy>=1.17.3 in /home/gerard/Documents/Programació/HackUPC2024/hackupc24-env/lib/python3.10/site-packages (from h5py) (1.26.4)\n",
      "Installing collected packages: h5py\n",
      "Successfully installed h5py-3.11.0\n"
     ]
    }
   ],
   "source": [
    "!pip install h5py"
   ]
  },
  {
   "cell_type": "code",
   "execution_count": 59,
   "metadata": {},
   "outputs": [
    {
     "data": {
      "text/plain": [
       "array([[ 0.15454102, -0.22253418,  0.01873779, ...,  1.        ,\n",
       "         0.        ,  0.        ],\n",
       "       [-0.16235352, -0.53515625,  0.35766602, ...,  0.        ,\n",
       "         0.        ,  0.        ],\n",
       "       [ 0.09533691,  0.02001953, -0.11779785, ...,  0.        ,\n",
       "         1.        ,  0.        ],\n",
       "       ...,\n",
       "       [-0.10083008, -0.00698471, -0.02198792, ...,  0.        ,\n",
       "         0.        ,  0.        ],\n",
       "       [-0.38427734, -0.01298523, -0.01400757, ...,  1.        ,\n",
       "         0.        ,  0.        ],\n",
       "       [-0.28442383,  0.0047493 , -0.17834473, ...,  0.        ,\n",
       "         0.        ,  0.        ]], dtype=float32)"
      ]
     },
     "execution_count": 59,
     "metadata": {},
     "output_type": "execute_result"
    }
   ],
   "source": [
    "import h5py\n",
    "\n",
    "h5f = h5py.File('../images_0.h5', 'r')\n",
    "train_embeddings = h5f['image_embeddings'][:]\n",
    "\n",
    "train_embeddings"
   ]
  },
  {
   "cell_type": "code",
   "execution_count": 105,
   "metadata": {},
   "outputs": [
    {
     "name": "stdout",
     "output_type": "stream",
     "text": [
      "Mean: 0.27158965134551677\n",
      "Variance (corrected): 0.0035935611571433204\n",
      "standard deviation 0.0599463189624127\n"
     ]
    }
   ],
   "source": [
    "import numpy as np\n",
    "from scipy.spatial.distance import cosine\n",
    "dists = []\n",
    "subset = [images_0[0]]\n",
    "\n",
    "for idx, img in enumerate(images_0[1:]):\n",
    "    if img.split('_')[0] != subset[0].split('_')[0]:\n",
    "        if len(subset) == 2:\n",
    "            dists.append(cosine(train_embeddings[idx-1], train_embeddings[idx]))\n",
    "        else:\n",
    "            assert len(subset) == 3\n",
    "            dists.append(np.mean([cosine(train_embeddings[idx-1], train_embeddings[idx]),\n",
    "                                cosine(train_embeddings[idx-2], train_embeddings[idx]),\n",
    "                                cosine(train_embeddings[idx-2], train_embeddings[idx-1])]))\n",
    "\n",
    "        subset = [img]\n",
    "    \n",
    "    \n",
    "    else:\n",
    "        subset.append(img)\n",
    "\n",
    "\n",
    "\n",
    "# Compute mean\n",
    "mean = np.mean(dists)\n",
    "\n",
    "# Compute variance (corrected)\n",
    "var = np.var(dists, ddof=1)\n",
    "std = np.sqrt(var)\n",
    "\n",
    "\n",
    "print(\"Mean:\", mean)\n",
    "print(\"Variance (corrected):\", var)\n",
    "print(\"standard deviation\", np.sqrt(var))"
   ]
  },
  {
   "cell_type": "code",
   "execution_count": 120,
   "metadata": {},
   "outputs": [
    {
     "data": {
      "text/plain": [
       "1.6493742764993597"
      ]
     },
     "execution_count": 120,
     "metadata": {},
     "output_type": "execute_result"
    }
   ],
   "source": [
    "from scipy.stats import t\n",
    "\n",
    "# compute the 95% confidence interval for a new observation:\n",
    "quant = t.ppf(0.95, df=len(dists)-1)  # replace 'norm' with 't'\n",
    "\n",
    "conf_interval = [mean - quant * std, mean + quant * std]\n",
    "quant"
   ]
  },
  {
   "cell_type": "code",
   "execution_count": 118,
   "metadata": {},
   "outputs": [
    {
     "data": {
      "image/png": "[encoded data removed]",
      "text/plain": [
       "<Figure size 640x480 with 1 Axes>"
      ]
     },
     "metadata": {},
     "output_type": "display_data"
    }
   ],
   "source": [
    "import matplotlib.pyplot as plt\n",
    "\n",
    "plt.hist(dists, bins=10)\n",
    "plt.xlabel('Distance')\n",
    "plt.ylabel('Frequency')\n",
    "plt.title('Histogram of Distances')\n",
    "plt.show()"
   ]
  },
  {
   "cell_type": "code",
   "execution_count": 119,
   "metadata": {},
   "outputs": [
    {
     "name": "stdout",
     "output_type": "stream",
     "text": [
      "0.10324483775811209\n"
     ]
    }
   ],
   "source": [
    "total=len(dists)\n",
    "removed=0\n",
    "\n",
    "for idx, img in enumerate(images_0[1:]):\n",
    "    if img.split('_')[0] != subset[0].split('_')[0]:\n",
    "        if len(subset) == 2:\n",
    "            dist = cosine(train_embeddings[idx-1], train_embeddings[idx])\n",
    "\n",
    "        else:\n",
    "            dist = np.mean([cosine(train_embeddings[idx-1], train_embeddings[idx]),\n",
    "                                cosine(train_embeddings[idx-2], train_embeddings[idx]),\n",
    "                                cosine(train_embeddings[idx-2], train_embeddings[idx-1])])\n",
    "\n",
    "        subset = [img]\n",
    "\n",
    "        if not (conf_interval[0] < dist < conf_interval[1]):\n",
    "            removed += 1\n",
    "            \n",
    "    \n",
    "    else:\n",
    "        subset.append(img)\n",
    "\n",
    "print(removed / total)"
   ]
  },
  {
   "cell_type": "code",
   "execution_count": 130,
   "metadata": {},
   "outputs": [
    {
     "name": "stdout",
     "output_type": "stream",
     "text": [
      "0.0\n"
     ]
    }
   ],
   "source": [
    "total = 0\n",
    "removed = 0\n",
    "\n",
    "for idx, img in enumerate(images_1[1:]):\n",
    "    if img.split('_')[0] != subset[0].split('_')[0]:\n",
    "        if len(subset) == 2:\n",
    "            dist = cosine(train_embeddings[idx-1], train_embeddings[idx])\n",
    "\n",
    "        else:\n",
    "            dist = np.mean([cosine(train_embeddings[idx-1], train_embeddings[idx]),\n",
    "                                cosine(train_embeddings[idx-2], train_embeddings[idx]),\n",
    "                                cosine(train_embeddings[idx-2], train_embeddings[idx-1])])\n",
    "\n",
    "        subset = [img]\n",
    "\n",
    "        if not (conf_interval[0] < dist < conf_interval[1]):\n",
    "            removed += 1\n",
    "        total += 1\n",
    "            \n",
    "    \n",
    "    else:\n",
    "        subset.append(img)\n",
    "\n",
    "print(removed / total)"
   ]
  },
  {
   "cell_type": "code",
   "execution_count": null,
   "metadata": {},
   "outputs": [],
   "source": []
  }
 ],
 "metadata": {
  "kernelspec": {
   "display_name": "hackupc24-env",
   "language": "python",
   "name": "python3"
  },
  "language_info": {
   "codemirror_mode": {
    "name": "ipython",
    "version": 3
   },
   "file_extension": ".py",
   "mimetype": "text/x-python",
   "name": "python",
   "nbconvert_exporter": "python",
   "pygments_lexer": "ipython3",
   "version": "3.10.12"
  }
 },
 "nbformat": 4,
 "nbformat_minor": 2
}
