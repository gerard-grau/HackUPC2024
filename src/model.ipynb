{
 "cells": [
  {
   "cell_type": "code",
   "execution_count": 2,
   "metadata": {},
   "outputs": [],
   "source": [
    "import clip\n",
    "import torch\n",
    "from PIL import Image\n",
    "import numpy as np  \n",
    "from sklearn.preprocessing import OneHotEncoder, MinMaxScaler\n",
    "import h5py\n",
    "import pandas as pd\n",
    "from tqdm import tqdm\n",
    "import os"
   ]
  },
  {
   "cell_type": "markdown",
   "metadata": {},
   "source": [
    "### Load the model: CLIP"
   ]
  },
  {
   "cell_type": "code",
   "execution_count": 3,
   "metadata": {},
   "outputs": [
    {
     "name": "stdout",
     "output_type": "stream",
     "text": [
      "Using cuda device\n"
     ]
    }
   ],
   "source": [
    "\n",
    "device = \"cuda\" if torch.cuda.is_available() else \"cpu\"\n",
    "\n",
    "print(f\"Using {device} device\")\n",
    "\n",
    "# Load the model\n",
    "model, preprocess = clip.load('ViT-B/32', device=device)"
   ]
  },
  {
   "cell_type": "code",
   "execution_count": 4,
   "metadata": {},
   "outputs": [
    {
     "name": "stdout",
     "output_type": "stream",
     "text": [
      "max_combined_size: 523\n"
     ]
    }
   ],
   "source": [
    "# Load the CSV\n",
    "\n",
    "data_frame = pd.read_csv('/home/guimcc/OneDrive/General/Projectes/HackUPC2024/index/images_resized_sorted.csv')\n",
    "\n",
    "# Fit encoder to define the size\n",
    "encoder = OneHotEncoder(sparse=False)\n",
    "encoder.fit(data_frame[['season','category','type']])\n",
    "\n",
    "max_combined_size = 512 + sum(len(categories) for categories in encoder.categories_)\n",
    "\n",
    "print(f\"max_combined_size: {max_combined_size}\")"
   ]
  },
  {
   "cell_type": "code",
   "execution_count": 5,
   "metadata": {},
   "outputs": [],
   "source": [
    "base_image_path = '/home/guimcc/OneDrive/General/Projectes/HackUPC2024/images_resized'\n",
    "h5pt_file_path = '../ckp/images_resized_embd.h5'"
   ]
  },
  {
   "cell_type": "code",
   "execution_count": 6,
   "metadata": {},
   "outputs": [],
   "source": [
    "# Define the processing of every image\n",
    "def process_and_combine_data(data_row, device, model, preprocess, encoder):\n",
    "    \n",
    "    relative_image_path = data_row['path']  # Assuming 'path' column has relative paths or filenames\n",
    "    full_image_path = os.path.join(base_image_path, relative_image_path)\n",
    "    try:\n",
    "        image = preprocess(Image.open(full_image_path)).unsqueeze(0).to(device) # Add the batched image to the device\n",
    "        with torch.no_grad():\n",
    "            image_features = model.encode_image(image).cpu().numpy() # Extract features from the image (Embedding)\n",
    "\n",
    "        # Assuming 'category' is a column in your DataFrame with categorical data\n",
    "        categorical_data = [data_row[['season', 'category', 'type']].values.tolist()]\n",
    "        one_hot_features = encoder.transform(categorical_data)\n",
    "\n",
    "        # Combine image features with one-hot encoded features\n",
    "        combined_features = np.concatenate((image_features, one_hot_features), axis=1)\n",
    "        return combined_features\n",
    "    \n",
    "    except Exception as e:\n",
    "        print(f\"Failed to process image {full_image_path}: {str(e)}\")\n",
    "        print(data_row)\n",
    "        print(categorical_data)\n",
    "        return None"
   ]
  },
  {
   "cell_type": "code",
   "execution_count": 7,
   "metadata": {},
   "outputs": [
    {
     "name": "stderr",
     "output_type": "stream",
     "text": [
      "Processing images: 100%|██████████| 1249/1249 [00:57<00:00, 21.67it/s]\n"
     ]
    }
   ],
   "source": [
    "with h5py.File(h5pt_file_path, 'w') as h5f:\n",
    "    \n",
    "    # Create the dataset\n",
    "    dset = h5f.create_dataset(\"image_embeddings\", shape=(0, max_combined_size), maxshape=(None, max_combined_size), dtype='float32')\n",
    "    \n",
    "    \n",
    "    for index, row in tqdm(data_frame.iterrows(), total=len(data_frame), desc=\"Processing images\"):\n",
    "        result = process_and_combine_data(row, device, model, preprocess, encoder)\n",
    "        if result is not None:\n",
    "            dset.resize(dset.shape[0]+1, axis=0)\n",
    "            dset[-1] = result"
   ]
  },
  {
   "cell_type": "code",
   "execution_count": 8,
   "metadata": {},
   "outputs": [],
   "source": [
    "with h5py.File(h5pt_file_path, 'r') as file:\n",
    "    combined_features = file['image_embeddings']\n",
    "    \n"
   ]
  },
  {
   "cell_type": "markdown",
   "metadata": {},
   "source": [
    "### Outline\n",
    "Outline of the overall method of retrieveng images and obtaining their embeddings"
   ]
  },
  {
   "cell_type": "code",
   "execution_count": null,
   "metadata": {},
   "outputs": [],
   "source": [
    "images = [preprocess(Image.open(image_path)).unsqueeze(0).to('cuda') for image_path in image_paths]\n",
    "\n",
    "with torch.no_grad():\n",
    "    image_features_l = [model.encode_image(image) for image in images]\n",
    "\n",
    "image_features = torch.stack(image_features_l).squeeze()\n",
    "\n",
    "tabular_data = np.array([\n",
    "    ['m', 's', 'v'],\n",
    "    ['m', 's', 'v'],\n",
    "    ['m', 'd', 'v'],\n",
    "    ['m', 's', 'v'],\n",
    "])\n",
    "\n",
    "weight = 10.0\n",
    "\n",
    "\n",
    "encoder = OneHotEncoder()\n",
    "encoded_categorical = encoder.fit_transform(tabular_data).toarray()\n",
    "encoded_categorical = torch.tensor(encoded_categorical, device='cuda').float()\n",
    "\n",
    "combined_features = torch.cat((image_features, weight*encoded_categorical), dim=1)"
   ]
  },
  {
   "cell_type": "markdown",
   "metadata": {},
   "source": []
  },
  {
   "cell_type": "code",
   "execution_count": 68,
   "metadata": {},
   "outputs": [],
   "source": [
    "tabular_data = np.array([\n",
    "    ['m', 's', 'v'],\n",
    "    ['m', 's', 'v'],\n",
    "    ['m', 'd', 'v'],\n",
    "    ['m', 's', 'v'],\n",
    "])\n",
    "\n",
    "weight = 10.0"
   ]
  },
  {
   "cell_type": "code",
   "execution_count": 74,
   "metadata": {},
   "outputs": [],
   "source": [
    "encoder = OneHotEncoder()\n",
    "encoded_categorical = encoder.fit_transform(tabular_data).toarray()\n",
    "encoded_categorical = torch.tensor(encoded_categorical, device='cuda').float()"
   ]
  },
  {
   "cell_type": "code",
   "execution_count": 70,
   "metadata": {},
   "outputs": [],
   "source": [
    "combined_features = torch.cat((image_features, weight*encoded_categorical), dim=1)"
   ]
  },
  {
   "cell_type": "code",
   "execution_count": null,
   "metadata": {},
   "outputs": [],
   "source": [
    "# Save embeddings\n",
    "with h5py.File('combined_embeddings.hdf5', 'w') as f:\n",
    "    f.create_dataset('embeddings', data=combined_features.cpu().detach().numpy())\n",
    "\n",
    "# Load embeddings\n",
    "with h5py.File('combined_embeddings.hdf5', 'r') as f:\n",
    "    loaded_embeddings = f['embeddings'][:]"
   ]
  }
 ],
 "metadata": {
  "kernelspec": {
   "display_name": "Python 3",
   "language": "python",
   "name": "python3"
  },
  "language_info": {
   "codemirror_mode": {
    "name": "ipython",
    "version": 3
   },
   "file_extension": ".py",
   "mimetype": "text/x-python",
   "name": "python",
   "nbconvert_exporter": "python",
   "pygments_lexer": "ipython3",
   "version": "3.10.12"
  }
 },
 "nbformat": 4,
 "nbformat_minor": 2
}
