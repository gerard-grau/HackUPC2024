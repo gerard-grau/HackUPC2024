{
 "cells": [
  {
   "cell_type": "code",
   "execution_count": 91,
   "metadata": {},
   "outputs": [],
   "source": [
    "import clip\n",
    "import torch\n",
    "from PIL import Image\n",
    "import numpy as np  \n",
    "from sklearn.preprocessing import OneHotEncoder, MinMaxScaler\n",
    "import h5py\n",
    "import pandas as pd\n",
    "from tqdm import tqdm\n",
    "import os\n",
    "import matplotlib.pyplot as plt\n",
    "import pickle\n",
    "import cv2\n",
    "import matplotlib.pyplot as plt\n",
    "from scipy.spatial.distance import cosine\n",
    "import requests\n",
    "import io\n",
    "import shutil"
   ]
  },
  {
   "cell_type": "code",
   "execution_count": 92,
   "metadata": {},
   "outputs": [],
   "source": [
    "def rgb_to_class_id(mask_path, color_to_class_id):\n",
    "    \n",
    "    # Retrieve the data\n",
    "    mask = cv2.imread(mask_path, cv2.IMREAD_COLOR)\n",
    "    mask = cv2.cvtColor(mask, cv2.COLOR_BGR2RGB)\n",
    "    \n",
    "    # Initialize the class ID array\n",
    "    class_ids = np.zeros((mask.shape[0], mask.shape[1]), dtype=int)\n",
    "\n",
    "    # Map each color to its corresponding class ID\n",
    "    for color, class_id in color_to_class_id.items():\n",
    "        # Create a mask for each color\n",
    "        color_mask = np.all(mask == np.array(color, dtype=np.uint8), axis=-1)\n",
    "        class_ids[color_mask] = class_id\n",
    "\n",
    "    return class_ids"
   ]
  },
  {
   "cell_type": "code",
   "execution_count": 93,
   "metadata": {},
   "outputs": [],
   "source": [
    "def segment_and_save_images(original_img_path, output_path, mask_id, color_to_class_id):\n",
    "    # Load the original image\n",
    "    original_img = cv2.imread(original_img_path, cv2.IMREAD_COLOR)\n",
    "    if original_img is None:\n",
    "        print(\"Error loading the original image.\")\n",
    "        return None\n",
    "\n",
    "    # Resize the mask to match the original image dimensions\n",
    "    mask_id_resized = cv2.resize(mask_id, (original_img.shape[1], original_img.shape[0]), interpolation=cv2.INTER_NEAREST)\n",
    "    \n",
    "    # Determine which class IDs are present in the resized mask\n",
    "    present_classes = np.unique(mask_id_resized)\n",
    "    \n",
    "\n",
    "    paths = []\n",
    "    # Loop through each class ID in the color_to_class_id dictionary\n",
    "    for color, class_id in color_to_class_id.items():\n",
    "        if class_id != 0 and class_id in present_classes:  # Skip background and check presence\n",
    "            \n",
    "            # Create a blank white image with the same dimensions as the original\n",
    "            segmented_img = np.ones_like(original_img) * 255  # Set all pixels to white\n",
    "\n",
    "            # Apply the mask for the current class_id\n",
    "            mask = mask_id_resized == class_id\n",
    "            segmented_img[mask] = original_img[mask]\n",
    "\n",
    "            # Convert BGR to RGB for plotting (optional)\n",
    "            # segmented_img_rgb = cv2.cvtColor(segmented_img, cv2.COLOR_BGR2RGB)\n",
    "\n",
    "            # Display the segmented image using matplotlib (optional)\n",
    "            # plt.figure(figsize=(10, 8))  # Adjust the figure size as necessary\n",
    "            # plt.imshow(segmented_img_rgb)\n",
    "            # plt.title(f'Segmented Image for Class ID {class_id}')\n",
    "            # plt.axis('off')  # Hide the axes\n",
    "            # plt.show()\n",
    "\n",
    "            # Save the image to file\n",
    "            cv2.imwrite(f'{output_path}/s_c_{class_id}.png', segmented_img)\n",
    "            paths.append((f's_c_{class_id}.png', class_id))\n",
    "    return paths\n",
    "    "
   ]
  },
  {
   "cell_type": "code",
   "execution_count": 94,
   "metadata": {},
   "outputs": [],
   "source": [
    "def generate_combined_embedding(full_image_path, categorical_data, model, preprocess, encoder, device, encoding_vector_length):\n",
    "    # Process the image\n",
    "    image = preprocess(Image.open(full_image_path)).unsqueeze(0).to(device)\n",
    "    with torch.no_grad():\n",
    "        image_embedding = model.encode_image(image).cpu().numpy()\n",
    "    \n",
    "    # One-hot encode the categorical data\n",
    "    # Ensure categorical_data is in the form of a 2D array [[cat1, cat2, ..., catN]]\n",
    "    one_hot_features = encoder.transform([categorical_data])\n",
    "    \n",
    "    # Combine the image embedding and one-hot features\n",
    "    combined_embedding = np.concatenate((image_embedding.squeeze(0), one_hot_features.squeeze(0)), axis=0)\n",
    "    #combined_embedding = np.concatenate((image_embedding.squeeze(0), np.zeros(encoding_vector_length)), axis=0)\n",
    "\n",
    "    \n",
    "    return combined_embedding"
   ]
  },
  {
   "cell_type": "code",
   "execution_count": 95,
   "metadata": {},
   "outputs": [],
   "source": [
    "def find_closest_embedding_cosine(new_embedding, embeddings):\n",
    "    similarities = np.array([cosine(new_embedding, emb) for emb in embeddings])\n",
    "    closest_index = np.argmin(similarities)\n",
    "    return closest_index, similarities[closest_index]"
   ]
  },
  {
   "cell_type": "code",
   "execution_count": 96,
   "metadata": {},
   "outputs": [],
   "source": [
    "def get_image(idx, links, images):\n",
    "    image_name = images.loc[idx, 'path']\n",
    "    row, col = image_name.split('_')[0:2]\n",
    "\n",
    "    image_url = links.iloc[int(row), int(col)]\n",
    "    \n",
    "    try:\n",
    "        response = requests.get(image_url)\n",
    "        if response.status_code == 200:\n",
    "            # image = Image.open(io.BytesIO(response.content))\n",
    "            import matplotlib.pyplot as plt\n",
    "            # Convert response.content to image\n",
    "            image = Image.open(io.BytesIO(response.content))\n",
    "\n",
    "            return image\n",
    "\n",
    "        else:\n",
    "            print(f\"Failed to download: {image_name}\")\n",
    "            get_image(image_name)  # Retry download\n",
    "    \n",
    "    except Exception as e:\n",
    "        print(f\"Error downloading {image_name}: {str(e)}\")\n"
   ]
  },
  {
   "cell_type": "code",
   "execution_count": 97,
   "metadata": {},
   "outputs": [],
   "source": [
    "def get_image_by_name(image_name, links):\n",
    "    row, col = image_name.split('_')[0:2]\n",
    "\n",
    "    image_url = links.iloc[int(row), int(col)]\n",
    "    \n",
    "    try:\n",
    "        response = requests.get(image_url)\n",
    "        if response.status_code == 200:\n",
    "            # image = Image.open(io.BytesIO(response.content))\n",
    "            import matplotlib.pyplot as plt\n",
    "            # Convert response.content to image\n",
    "            image = Image.open(io.BytesIO(response.content))\n",
    "\n",
    "            return image\n",
    "\n",
    "        else:\n",
    "            print(f\"Failed to download: {image_name}\")\n",
    "            get_image_by_name(image_name, links)  # Retry download\n",
    "    \n",
    "    except Exception as e:\n",
    "        print(f\"Error downloading {image_name}: {str(e)}\")"
   ]
  },
  {
   "cell_type": "code",
   "execution_count": 98,
   "metadata": {},
   "outputs": [],
   "source": [
    "def get_nearest_products(new_embedding, train_embeddings, images, num_options=3):\n",
    "\n",
    "    k = 2 * num_options + 1\n",
    "\n",
    "    similarities = np.array([cosine(new_embedding, emb) for emb in train_embeddings])\n",
    "    \n",
    "    k_lowest_values_indices = np.argsort(similarities)[:k]\n",
    "    \n",
    "\n",
    "    viewed_rows = []\n",
    "    nearest_images = []\n",
    "    \n",
    "    i=0\n",
    "    while len(nearest_images) < num_options:\n",
    "        idx = k_lowest_values_indices[i]\n",
    "        if images.loc[idx, 'row'] in viewed_rows:\n",
    "            i+=1\n",
    "            continue\n",
    "        else:\n",
    "        #check if the image distance with some image in the nearist_images is very close to 0\n",
    "            if any([np.isclose(cosine(train_embeddings[images[images['path'] == image].index[0]], train_embeddings[idx]), 0, atol=1e-6) for image in nearest_images]):\n",
    "                i+=1\n",
    "                continue\n",
    "            \n",
    "        nearest_images.append(images.loc[idx, 'path'])\n",
    "        viewed_rows.append(images.loc[idx, 'row'])\n",
    "        i+=1\n",
    "  \n",
    "    return nearest_images"
   ]
  },
  {
   "cell_type": "code",
   "execution_count": 99,
   "metadata": {},
   "outputs": [],
   "source": [
    "def show_product_neighbours(product_paths, links):\n",
    "\n",
    "    fig, axes = plt.subplots(1, len(product_paths), figsize=(15, 5))\n",
    "\n",
    "    for i, path in enumerate(product_paths):\n",
    "        axes[i].imshow(get_image_by_name(path, links))\n",
    "        axes[i].axis('off')\n",
    "\n",
    "    plt.show()"
   ]
  },
  {
   "cell_type": "code",
   "execution_count": 100,
   "metadata": {},
   "outputs": [],
   "source": [
    "def get_product_neighbours_images(product_paths, links):\n",
    "\n",
    "    pictures = []\n",
    "    for path in product_paths:\n",
    "        pictures.append(get_image_by_name(path, links))\n",
    "\n",
    "    return pictures"
   ]
  },
  {
   "cell_type": "code",
   "execution_count": 101,
   "metadata": {},
   "outputs": [],
   "source": [
    "def push_to_backend(segment_path, output_path, output_path_to_segment,dir_path):\n",
    "    # Remove if already exists\n",
    "    # items\n",
    "    for i in range(2):\n",
    "        for j in range(3):\n",
    "            #print(f\"{dir_path}/{i}_{j}.jpg\")\n",
    "            if os.path.exists(f\"{dir_path}/{i}_{j}.jpg\"):\n",
    "                os.remove(f\"{dir_path}/{i}_{j}.jpg\")\n",
    "    # segmasks\n",
    "    for i in range(2):\n",
    "        if os.path.exists(f\"{dir_path}/s_c_{i+1}.jpg\"):\n",
    "            os.remove(f\"{dir_path}/s_c_{i+1}.jpg\")\n",
    "    # mask\n",
    "    if os.path.exists(f\"{output_path_to_segment}/input.jpg\"):\n",
    "            os.remove(f\"{output_path_to_segment}/input.jpg\")\n",
    "    \n",
    "    # Move segmentation data\n",
    "    # items\n",
    "    for i in range(2):\n",
    "        for j in range(3):\n",
    "            shutil.copy(f\"{output_path}/{i}_{j}.jpg\", f\"{dir_path}/{i}_{j}.jpg\")\n",
    "    # segmasks\n",
    "    for i in range(2):\n",
    "        shutil.copy(f\"{segment_path}/s_c_{i+1}.png\", f\"{dir_path}/s_c_{i+1}.jpg\")\n",
    "    # mask\n",
    "    shutil.copy(f\"{output_path_to_segment}/input.png\", f\"{dir_path}/mask.jpg\")\n",
    "    "
   ]
  },
  {
   "cell_type": "code",
   "execution_count": 102,
   "metadata": {},
   "outputs": [
    {
     "name": "stdout",
     "output_type": "stream",
     "text": [
      "Using cuda device\n"
     ]
    }
   ],
   "source": [
    "device = \"cuda\" if torch.cuda.is_available() else \"cpu\"\n",
    "\n",
    "print(f\"Using {device} device\")\n",
    "\n",
    "# Load the model\n",
    "model, preprocess = clip.load('ViT-B/32', device=device)"
   ]
  },
  {
   "cell_type": "code",
   "execution_count": 103,
   "metadata": {},
   "outputs": [],
   "source": [
    "# Load the encoder\n",
    "with open('../ckp/encoder.pkl', 'rb') as f:\n",
    "    loaded_encoder = pickle.load(f)"
   ]
  },
  {
   "cell_type": "code",
   "execution_count": 104,
   "metadata": {},
   "outputs": [
    {
     "name": "stdout",
     "output_type": "stream",
     "text": [
      "[array(['I', 'S', 'V', 'W'], dtype=object), array([0, 1, 2, 4]), array([1, 2, 3])]\n"
     ]
    }
   ],
   "source": [
    "print(loaded_encoder.categories_)"
   ]
  },
  {
   "cell_type": "code",
   "execution_count": 105,
   "metadata": {},
   "outputs": [],
   "source": [
    "h5pt_file_path = '/home/guimcc/OneDrive/General/Projectes/HackUPC2024/ckp/images_30k_clean.h5'\n",
    "h5f = h5py.File(h5pt_file_path, 'r')\n",
    "train_embeddings = h5f['image_embeddings'][:]"
   ]
  },
  {
   "cell_type": "code",
   "execution_count": 116,
   "metadata": {},
   "outputs": [],
   "source": [
    "images = pd.read_csv('../index/images_resized_30k_clean.csv')\n",
    "\n",
    "links = pd.read_csv('../inditextech_hackupc_challenge_images.csv')"
   ]
  },
  {
   "cell_type": "code",
   "execution_count": 107,
   "metadata": {},
   "outputs": [
    {
     "data": {
      "text/plain": [
       "(47472, 523)"
      ]
     },
     "execution_count": 107,
     "metadata": {},
     "output_type": "execute_result"
    }
   ],
   "source": [
    "train_embeddings.shape"
   ]
  },
  {
   "cell_type": "code",
   "execution_count": 108,
   "metadata": {},
   "outputs": [],
   "source": [
    "# Recieve image at\n",
    "image_path_to_segment = '/home/guimcc/OneDrive/General/Projectes/HackUPC2024/images_to_inference/input'\n",
    "\n",
    "output_path_to_mask = '/home/guimcc/OneDrive/General/Projectes/HackUPC2024/images_to_inference/output'\n",
    "output_path_to_segment = '/home/guimcc/OneDrive/General/Projectes/HackUPC2024/images_to_inference/segmented_mask'\n",
    "output_image_path = '/home/guimcc/OneDrive/General/Projectes/HackUPC2024/images_to_inference/zzz'\n",
    "\n",
    "website_path = '/home/guimcc/OneDrive/General/Projectes/HackUPC2024/server/static'"
   ]
  },
  {
   "cell_type": "code",
   "execution_count": 118,
   "metadata": {},
   "outputs": [
    {
     "name": "stdout",
     "output_type": "stream",
     "text": [
      "----checkpoints loaded from path: /home/guimcc/OneDrive/General/Projectes/cloth-segmentation/checkpoint_u2net.pth----\n"
     ]
    },
    {
     "name": "stderr",
     "output_type": "stream",
     "text": [
      "  0%|          | 0/1 [00:00<?, ?it/s]/usr/lib/python3/dist-packages/torch/nn/functional.py:3782: UserWarning: nn.functional.upsample is deprecated. Use nn.functional.interpolate instead.\n",
      "  warnings.warn(\"nn.functional.upsample is deprecated. Use nn.functional.interpolate instead.\")\n",
      "100%|██████████| 1/1 [00:00<00:00,  1.12it/s]\n"
     ]
    },
    {
     "name": "stdout",
     "output_type": "stream",
     "text": [
      "['6031_1_2023_I_0_2', '26760_1_2023_I_0_2', '5819_2_2023_I_0_1']\n",
      "['8887_2_2023_I_0_2', '30957_1_2024_V_0_1', '34137_2_2023_I_0_1']\n"
     ]
    }
   ],
   "source": [
    "# Get the data to predict\n",
    "# if os.path.exists(f\"{image_path_to_segment}/input.png\"):\n",
    "#     os.remove(f\"{image_path_to_segment}/input.png\")\n",
    "    \n",
    "# shutil.copy(f\"{website_path}/image_to_predict.jpeg\", f\"{image_path_to_segment}/input.png\")\n",
    "\n",
    "image_name = os.listdir(image_path_to_segment)[0] # input.png\n",
    "\n",
    "# Apply the semantic segmentation task\n",
    "command = \"python /home/guimcc/OneDrive/General/Projectes/cloth-segmentation/cloth_segmentation/infer.py\"\n",
    "os.system(command)\n",
    "\n",
    "joined_path_org = os.path.join(image_path_to_segment, image_name)\n",
    "joined_path_mask = os.path.join(output_path_to_mask, image_name)\n",
    "\n",
    "# Apply the semantic segmentation task\n",
    "color_to_class_id = {\n",
    "    (0, 0, 0): 0,     # Example: Background\n",
    "    (128, 0, 0): 1,   # Example: Upper Body Cloth\n",
    "    (0, 128, 0): 2,   # Example: Lower Body Cloth\n",
    "    (0, 0, 128): 3     # Example: Full body wear\n",
    "}\n",
    "\n",
    "masked_image = rgb_to_class_id( joined_path_mask, color_to_class_id)\n",
    "\n",
    "saved_images = segment_and_save_images(joined_path_org, output_path_to_segment, masked_image, color_to_class_id)\n",
    "\n",
    "# Calculate the embeddings\n",
    "\n",
    "encoding_vector_length = sum(len(categories) for categories in loaded_encoder.categories_)\n",
    "\n",
    "# zeros_categorical_data = np.zeros(encoding_vector_length)\n",
    "\n",
    "results = []\n",
    "\n",
    "for cloth in saved_images:\n",
    "    new_image_path = os.path.join(output_path_to_segment, cloth[0])\n",
    "    categorical_data = ['I', 0, 2]\n",
    "    #catcegorical_data[cloth[1]] = 1\n",
    "    \n",
    "    new_embedding = generate_combined_embedding(new_image_path, categorical_data, model, preprocess, loaded_encoder, device, encoding_vector_length)\n",
    "    \n",
    "    results.append(get_nearest_products(new_embedding, train_embeddings, images))\n",
    "    \n",
    "# Once we have the embeddings, we can search for the image paths\n",
    "for j, product in enumerate(results):\n",
    "    print(product)\n",
    "    #show_product_neighbours(i, links)\n",
    "    neighbours = get_product_neighbours_images(product, links)\n",
    "    for i, neighbour in enumerate(neighbours):\n",
    "        #print(\"neighbour: \", neighbour)\n",
    "        neighbour.save(f'{output_image_path}/{j}_{i}.jpg')\n",
    "\n",
    "# And push everything to backend\n",
    "push_to_backend(output_path_to_segment, output_image_path, output_path_to_mask, website_path)"
   ]
  },
  {
   "cell_type": "code",
   "execution_count": 113,
   "metadata": {},
   "outputs": [
    {
     "name": "stdout",
     "output_type": "stream",
     "text": [
      "['8526_1_2024_V_1_3', '10877_0_2024_V_0_2', '10528_1_2024_V_0_1']\n",
      "['5787_0_2024_V_1_2', '1374_1_2024_V_0_1', '10042_0_2024_V_0_3']\n"
     ]
    }
   ],
   "source": [
    "for i in results:\n",
    "    print(i)"
   ]
  },
  {
   "cell_type": "code",
   "execution_count": 115,
   "metadata": {},
   "outputs": [
    {
     "name": "stdout",
     "output_type": "stream",
     "text": [
      "['8526_1_2024_V_1_3', '10877_0_2024_V_0_2', '10528_1_2024_V_0_1']\n",
      "['5787_0_2024_V_1_2', '1374_1_2024_V_0_1', '10042_0_2024_V_0_3']\n"
     ]
    }
   ],
   "source": [
    "for j, product in enumerate(results):\n",
    "    print(product)\n",
    "    #show_product_neighbours(i, links)\n",
    "    neighbours = get_product_neighbours_images(product, links)\n",
    "    for i, neighbour in enumerate(neighbours):\n",
    "        #print(\"neighbour: \", neighbour)\n",
    "        neighbour.save(f'{output_image_path}/{j}_{i}.jpg')"
   ]
  },
  {
   "cell_type": "code",
   "execution_count": 114,
   "metadata": {},
   "outputs": [
    {
     "name": "stdout",
     "output_type": "stream",
     "text": [
      "Error downloading 8526_1_2024_V_1_3: HTTPSConnectionPool(host='static.zara.net', port=443): Max retries exceeded with url: /photos///2024/V/1/3/p/3212/330/300/2/w/2048/3212330300_6_2_1.jpg?ts=1699953670187 (Caused by NewConnectionError('<urllib3.connection.HTTPSConnection object at 0x7d7b18a6bbe0>: Failed to establish a new connection: [Errno -3] Temporary failure in name resolution'))\n"
     ]
    },
    {
     "ename": "TypeError",
     "evalue": "Image data of dtype object cannot be converted to float",
     "output_type": "error",
     "traceback": [
      "\u001b[0;31m---------------------------------------------------------------------------\u001b[0m",
      "\u001b[0;31mTypeError\u001b[0m                                 Traceback (most recent call last)",
      "Cell \u001b[0;32mIn[114], line 2\u001b[0m\n\u001b[1;32m      1\u001b[0m \u001b[38;5;28;01mfor\u001b[39;00m product \u001b[38;5;129;01min\u001b[39;00m results:\n\u001b[0;32m----> 2\u001b[0m     \u001b[43mshow_product_neighbours\u001b[49m\u001b[43m(\u001b[49m\u001b[43mproduct\u001b[49m\u001b[43m,\u001b[49m\u001b[43m \u001b[49m\u001b[43mlinks\u001b[49m\u001b[43m)\u001b[49m\n",
      "Cell \u001b[0;32mIn[99], line 6\u001b[0m, in \u001b[0;36mshow_product_neighbours\u001b[0;34m(product_paths, links)\u001b[0m\n\u001b[1;32m      3\u001b[0m fig, axes \u001b[38;5;241m=\u001b[39m plt\u001b[38;5;241m.\u001b[39msubplots(\u001b[38;5;241m1\u001b[39m, \u001b[38;5;28mlen\u001b[39m(product_paths), figsize\u001b[38;5;241m=\u001b[39m(\u001b[38;5;241m15\u001b[39m, \u001b[38;5;241m5\u001b[39m))\n\u001b[1;32m      5\u001b[0m \u001b[38;5;28;01mfor\u001b[39;00m i, path \u001b[38;5;129;01min\u001b[39;00m \u001b[38;5;28menumerate\u001b[39m(product_paths):\n\u001b[0;32m----> 6\u001b[0m     \u001b[43maxes\u001b[49m\u001b[43m[\u001b[49m\u001b[43mi\u001b[49m\u001b[43m]\u001b[49m\u001b[38;5;241;43m.\u001b[39;49m\u001b[43mimshow\u001b[49m\u001b[43m(\u001b[49m\u001b[43mget_image_by_name\u001b[49m\u001b[43m(\u001b[49m\u001b[43mpath\u001b[49m\u001b[43m,\u001b[49m\u001b[43m \u001b[49m\u001b[43mlinks\u001b[49m\u001b[43m)\u001b[49m\u001b[43m)\u001b[49m\n\u001b[1;32m      7\u001b[0m     axes[i]\u001b[38;5;241m.\u001b[39maxis(\u001b[38;5;124m'\u001b[39m\u001b[38;5;124moff\u001b[39m\u001b[38;5;124m'\u001b[39m)\n\u001b[1;32m      9\u001b[0m plt\u001b[38;5;241m.\u001b[39mshow()\n",
      "File \u001b[0;32m/usr/lib/python3/dist-packages/matplotlib/_api/deprecation.py:456\u001b[0m, in \u001b[0;36mmake_keyword_only.<locals>.wrapper\u001b[0;34m(*args, **kwargs)\u001b[0m\n\u001b[1;32m    450\u001b[0m \u001b[38;5;28;01mif\u001b[39;00m \u001b[38;5;28mlen\u001b[39m(args) \u001b[38;5;241m>\u001b[39m name_idx:\n\u001b[1;32m    451\u001b[0m     warn_deprecated(\n\u001b[1;32m    452\u001b[0m         since, message\u001b[38;5;241m=\u001b[39m\u001b[38;5;124m\"\u001b[39m\u001b[38;5;124mPassing the \u001b[39m\u001b[38;5;132;01m%(name)s\u001b[39;00m\u001b[38;5;124m \u001b[39m\u001b[38;5;132;01m%(obj_type)s\u001b[39;00m\u001b[38;5;124m \u001b[39m\u001b[38;5;124m\"\u001b[39m\n\u001b[1;32m    453\u001b[0m         \u001b[38;5;124m\"\u001b[39m\u001b[38;5;124mpositionally is deprecated since Matplotlib \u001b[39m\u001b[38;5;132;01m%(since)s\u001b[39;00m\u001b[38;5;124m; the \u001b[39m\u001b[38;5;124m\"\u001b[39m\n\u001b[1;32m    454\u001b[0m         \u001b[38;5;124m\"\u001b[39m\u001b[38;5;124mparameter will become keyword-only \u001b[39m\u001b[38;5;132;01m%(removal)s\u001b[39;00m\u001b[38;5;124m.\u001b[39m\u001b[38;5;124m\"\u001b[39m,\n\u001b[1;32m    455\u001b[0m         name\u001b[38;5;241m=\u001b[39mname, obj_type\u001b[38;5;241m=\u001b[39m\u001b[38;5;124mf\u001b[39m\u001b[38;5;124m\"\u001b[39m\u001b[38;5;124mparameter of \u001b[39m\u001b[38;5;132;01m{\u001b[39;00mfunc\u001b[38;5;241m.\u001b[39m\u001b[38;5;18m__name__\u001b[39m\u001b[38;5;132;01m}\u001b[39;00m\u001b[38;5;124m()\u001b[39m\u001b[38;5;124m\"\u001b[39m)\n\u001b[0;32m--> 456\u001b[0m \u001b[38;5;28;01mreturn\u001b[39;00m \u001b[43mfunc\u001b[49m\u001b[43m(\u001b[49m\u001b[38;5;241;43m*\u001b[39;49m\u001b[43margs\u001b[49m\u001b[43m,\u001b[49m\u001b[43m \u001b[49m\u001b[38;5;241;43m*\u001b[39;49m\u001b[38;5;241;43m*\u001b[39;49m\u001b[43mkwargs\u001b[49m\u001b[43m)\u001b[49m\n",
      "File \u001b[0;32m/usr/lib/python3/dist-packages/matplotlib/__init__.py:1416\u001b[0m, in \u001b[0;36m_preprocess_data.<locals>.inner\u001b[0;34m(ax, data, *args, **kwargs)\u001b[0m\n\u001b[1;32m   1413\u001b[0m \u001b[38;5;129m@functools\u001b[39m\u001b[38;5;241m.\u001b[39mwraps(func)\n\u001b[1;32m   1414\u001b[0m \u001b[38;5;28;01mdef\u001b[39;00m \u001b[38;5;21minner\u001b[39m(ax, \u001b[38;5;241m*\u001b[39margs, data\u001b[38;5;241m=\u001b[39m\u001b[38;5;28;01mNone\u001b[39;00m, \u001b[38;5;241m*\u001b[39m\u001b[38;5;241m*\u001b[39mkwargs):\n\u001b[1;32m   1415\u001b[0m     \u001b[38;5;28;01mif\u001b[39;00m data \u001b[38;5;129;01mis\u001b[39;00m \u001b[38;5;28;01mNone\u001b[39;00m:\n\u001b[0;32m-> 1416\u001b[0m         \u001b[38;5;28;01mreturn\u001b[39;00m \u001b[43mfunc\u001b[49m\u001b[43m(\u001b[49m\u001b[43max\u001b[49m\u001b[43m,\u001b[49m\u001b[43m \u001b[49m\u001b[38;5;241;43m*\u001b[39;49m\u001b[38;5;28;43mmap\u001b[39;49m\u001b[43m(\u001b[49m\u001b[43msanitize_sequence\u001b[49m\u001b[43m,\u001b[49m\u001b[43m \u001b[49m\u001b[43margs\u001b[49m\u001b[43m)\u001b[49m\u001b[43m,\u001b[49m\u001b[43m \u001b[49m\u001b[38;5;241;43m*\u001b[39;49m\u001b[38;5;241;43m*\u001b[39;49m\u001b[43mkwargs\u001b[49m\u001b[43m)\u001b[49m\n\u001b[1;32m   1418\u001b[0m     bound \u001b[38;5;241m=\u001b[39m new_sig\u001b[38;5;241m.\u001b[39mbind(ax, \u001b[38;5;241m*\u001b[39margs, \u001b[38;5;241m*\u001b[39m\u001b[38;5;241m*\u001b[39mkwargs)\n\u001b[1;32m   1419\u001b[0m     auto_label \u001b[38;5;241m=\u001b[39m (bound\u001b[38;5;241m.\u001b[39marguments\u001b[38;5;241m.\u001b[39mget(label_namer)\n\u001b[1;32m   1420\u001b[0m                   \u001b[38;5;129;01mor\u001b[39;00m bound\u001b[38;5;241m.\u001b[39mkwargs\u001b[38;5;241m.\u001b[39mget(label_namer))\n",
      "File \u001b[0;32m/usr/lib/python3/dist-packages/matplotlib/axes/_axes.py:5488\u001b[0m, in \u001b[0;36mAxes.imshow\u001b[0;34m(self, X, cmap, norm, aspect, interpolation, alpha, vmin, vmax, origin, extent, interpolation_stage, filternorm, filterrad, resample, url, **kwargs)\u001b[0m\n\u001b[1;32m   5481\u001b[0m \u001b[38;5;28mself\u001b[39m\u001b[38;5;241m.\u001b[39mset_aspect(aspect)\n\u001b[1;32m   5482\u001b[0m im \u001b[38;5;241m=\u001b[39m mimage\u001b[38;5;241m.\u001b[39mAxesImage(\u001b[38;5;28mself\u001b[39m, cmap, norm, interpolation,\n\u001b[1;32m   5483\u001b[0m                       origin, extent, filternorm\u001b[38;5;241m=\u001b[39mfilternorm,\n\u001b[1;32m   5484\u001b[0m                       filterrad\u001b[38;5;241m=\u001b[39mfilterrad, resample\u001b[38;5;241m=\u001b[39mresample,\n\u001b[1;32m   5485\u001b[0m                       interpolation_stage\u001b[38;5;241m=\u001b[39minterpolation_stage,\n\u001b[1;32m   5486\u001b[0m                       \u001b[38;5;241m*\u001b[39m\u001b[38;5;241m*\u001b[39mkwargs)\n\u001b[0;32m-> 5488\u001b[0m \u001b[43mim\u001b[49m\u001b[38;5;241;43m.\u001b[39;49m\u001b[43mset_data\u001b[49m\u001b[43m(\u001b[49m\u001b[43mX\u001b[49m\u001b[43m)\u001b[49m\n\u001b[1;32m   5489\u001b[0m im\u001b[38;5;241m.\u001b[39mset_alpha(alpha)\n\u001b[1;32m   5490\u001b[0m \u001b[38;5;28;01mif\u001b[39;00m im\u001b[38;5;241m.\u001b[39mget_clip_path() \u001b[38;5;129;01mis\u001b[39;00m \u001b[38;5;28;01mNone\u001b[39;00m:\n\u001b[1;32m   5491\u001b[0m     \u001b[38;5;66;03m# image does not already have clipping set, clip to axes patch\u001b[39;00m\n",
      "File \u001b[0;32m/usr/lib/python3/dist-packages/matplotlib/image.py:706\u001b[0m, in \u001b[0;36m_ImageBase.set_data\u001b[0;34m(self, A)\u001b[0m\n\u001b[1;32m    702\u001b[0m \u001b[38;5;28mself\u001b[39m\u001b[38;5;241m.\u001b[39m_A \u001b[38;5;241m=\u001b[39m cbook\u001b[38;5;241m.\u001b[39msafe_masked_invalid(A, copy\u001b[38;5;241m=\u001b[39m\u001b[38;5;28;01mTrue\u001b[39;00m)\n\u001b[1;32m    704\u001b[0m \u001b[38;5;28;01mif\u001b[39;00m (\u001b[38;5;28mself\u001b[39m\u001b[38;5;241m.\u001b[39m_A\u001b[38;5;241m.\u001b[39mdtype \u001b[38;5;241m!=\u001b[39m np\u001b[38;5;241m.\u001b[39muint8 \u001b[38;5;129;01mand\u001b[39;00m\n\u001b[1;32m    705\u001b[0m         \u001b[38;5;129;01mnot\u001b[39;00m np\u001b[38;5;241m.\u001b[39mcan_cast(\u001b[38;5;28mself\u001b[39m\u001b[38;5;241m.\u001b[39m_A\u001b[38;5;241m.\u001b[39mdtype, \u001b[38;5;28mfloat\u001b[39m, \u001b[38;5;124m\"\u001b[39m\u001b[38;5;124msame_kind\u001b[39m\u001b[38;5;124m\"\u001b[39m)):\n\u001b[0;32m--> 706\u001b[0m     \u001b[38;5;28;01mraise\u001b[39;00m \u001b[38;5;167;01mTypeError\u001b[39;00m(\u001b[38;5;124m\"\u001b[39m\u001b[38;5;124mImage data of dtype \u001b[39m\u001b[38;5;132;01m{}\u001b[39;00m\u001b[38;5;124m cannot be converted to \u001b[39m\u001b[38;5;124m\"\u001b[39m\n\u001b[1;32m    707\u001b[0m                     \u001b[38;5;124m\"\u001b[39m\u001b[38;5;124mfloat\u001b[39m\u001b[38;5;124m\"\u001b[39m\u001b[38;5;241m.\u001b[39mformat(\u001b[38;5;28mself\u001b[39m\u001b[38;5;241m.\u001b[39m_A\u001b[38;5;241m.\u001b[39mdtype))\n\u001b[1;32m    709\u001b[0m \u001b[38;5;28;01mif\u001b[39;00m \u001b[38;5;28mself\u001b[39m\u001b[38;5;241m.\u001b[39m_A\u001b[38;5;241m.\u001b[39mndim \u001b[38;5;241m==\u001b[39m \u001b[38;5;241m3\u001b[39m \u001b[38;5;129;01mand\u001b[39;00m \u001b[38;5;28mself\u001b[39m\u001b[38;5;241m.\u001b[39m_A\u001b[38;5;241m.\u001b[39mshape[\u001b[38;5;241m-\u001b[39m\u001b[38;5;241m1\u001b[39m] \u001b[38;5;241m==\u001b[39m \u001b[38;5;241m1\u001b[39m:\n\u001b[1;32m    710\u001b[0m     \u001b[38;5;66;03m# If just one dimension assume scalar and apply colormap\u001b[39;00m\n\u001b[1;32m    711\u001b[0m     \u001b[38;5;28mself\u001b[39m\u001b[38;5;241m.\u001b[39m_A \u001b[38;5;241m=\u001b[39m \u001b[38;5;28mself\u001b[39m\u001b[38;5;241m.\u001b[39m_A[:, :, \u001b[38;5;241m0\u001b[39m]\n",
      "\u001b[0;31mTypeError\u001b[0m: Image data of dtype object cannot be converted to float"
     ]
    },
    {
     "data": {
      "image/png": "[encoded data removed]",
      "text/plain": [
       "<Figure size 1500x500 with 3 Axes>"
      ]
     },
     "metadata": {},
     "output_type": "display_data"
    }
   ],
   "source": [
    "for product in results:\n",
    "    show_product_neighbours(product, links)\n"
   ]
  },
  {
   "cell_type": "code",
   "execution_count": null,
   "metadata": {},
   "outputs": [],
   "source": [
    "# Save the images to the output path\n"
   ]
  },
  {
   "cell_type": "code",
   "execution_count": null,
   "metadata": {},
   "outputs": [
    {
     "data": {
      "image/png": "[encoded data removed]",
      "text/plain": [
       "<Figure size 500x500 with 1 Axes>"
      ]
     },
     "metadata": {},
     "output_type": "display_data"
    }
   ],
   "source": [
    "image_list = [get_image(result[0], links, images) for result in results]\n",
    "\n",
    "\n",
    "for idx, image in enumerate(image_list):\n",
    "    plt.figure(figsize=(5, 5))  # Set the figure size as needed\n",
    "    plt.imshow(image)\n",
    "    plt.axis('off')\n",
    "    plt.title(f\"Image {idx + 1}\")  # Optional: add a title to each subplot\n",
    "    plt.show()"
   ]
  }
 ],
 "metadata": {
  "kernelspec": {
   "display_name": "Python 3",
   "language": "python",
   "name": "python3"
  },
  "language_info": {
   "codemirror_mode": {
    "name": "ipython",
    "version": 3
   },
   "file_extension": ".py",
   "mimetype": "text/x-python",
   "name": "python",
   "nbconvert_exporter": "python",
   "pygments_lexer": "ipython3",
   "version": "3.10.12"
  }
 },
 "nbformat": 4,
 "nbformat_minor": 2
}
